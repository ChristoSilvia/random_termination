{
 "cells": [
  {
   "cell_type": "code",
   "execution_count": 1,
   "metadata": {
    "collapsed": false
   },
   "outputs": [],
   "source": [
    "import random_termination\n",
    "import graph_utilities\n",
    "import numpy as np\n",
    "import networkx as nx\n",
    "import matplotlib.pyplot as plt\n",
    "%matplotlib inline"
   ]
  },
  {
   "cell_type": "code",
   "execution_count": 2,
   "metadata": {
    "collapsed": false
   },
   "outputs": [],
   "source": [
    "sf = graph_utilities.sf_map()\n",
    "central_sf = nx.subgraph(sf, nx.strongly_connected_components(sf)[0])"
   ]
  },
  {
   "cell_type": "code",
   "execution_count": 3,
   "metadata": {
    "collapsed": true
   },
   "outputs": [],
   "source": [
    "central_sf_caller_locations = list(np.random.choice(central_sf, size=(10,)))\n",
    "central_sf_caller_probabilities = np.array([0.1, 0.1, 0.1, 0.1, 0.1, 0.1, 0.1, 0.1, 0.1, 0.1])"
   ]
  },
  {
   "cell_type": "code",
   "execution_count": 4,
   "metadata": {
    "collapsed": true
   },
   "outputs": [],
   "source": [
    "not_caller = filter(lambda a: a not in central_sf_caller_locations, central_sf.nodes())"
   ]
  },
  {
   "cell_type": "code",
   "execution_count": 5,
   "metadata": {
    "collapsed": false
   },
   "outputs": [],
   "source": [
    "sf_cost_exceeding = graph_utilities.graph_cost(\n",
    "    central_sf, \n",
    "    central_sf_caller_locations, \n",
    "    central_sf_caller_probabilities, \n",
    "    graph_utilities.make_exceeding_distance_cost(350))"
   ]
  },
  {
   "cell_type": "code",
   "execution_count": 6,
   "metadata": {
    "collapsed": false
   },
   "outputs": [],
   "source": [
    "sf_cost_expectation = graph_utilities.graph_cost(\n",
    "    central_sf, \n",
    "    central_sf_caller_locations, \n",
    "    central_sf_caller_probabilities, \n",
    "    graph_utilities.expected_value)"
   ]
  },
  {
   "cell_type": "code",
   "execution_count": 7,
   "metadata": {
    "collapsed": false
   },
   "outputs": [],
   "source": [
    "sf_exceeding_cost, sf_exceeding_edgelist = random_termination.random_termination_single_cost_edgelist(central_sf, sf_cost_exceeding, 0.06)"
   ]
  },
  {
   "cell_type": "code",
   "execution_count": 8,
   "metadata": {
    "collapsed": true
   },
   "outputs": [],
   "source": [
    "sf_expectation_cost, sf_expectation_edgelist = random_termination.random_termination_single_cost_edgelist(central_sf, sf_cost_expectation, 0.06)"
   ]
  },
  {
   "cell_type": "code",
   "execution_count": 9,
   "metadata": {
    "collapsed": false
   },
   "outputs": [],
   "source": [
    "sf_exceeding_expectation_cost, sf_exceeding_expectation_edgelist = random_termination.random_termination_double_cost_edgelist(central_sf, sf_cost_exceeding, sf_cost_expectation, 0.06)"
   ]
  },
  {
   "cell_type": "code",
   "execution_count": 14,
   "metadata": {
    "collapsed": true
   },
   "outputs": [],
   "source": [
    "def pdf_from_cost(graph, ec, el, g, p, starting_node, caller_locations, caller_probabilities):\n",
    " \n",
    "    path = graph_utilities.make_path(g, starting_node)\n",
    "    \n",
    "    gud = graph_utilities.summed_pdf(graph,\n",
    "                                     path,\n",
    "                                     caller_locations,\n",
    "                                     caller_probabilities,\n",
    "                                     p)\n",
    "    \n",
    "    d_pdf, p_pdf = graph_utilities.make_pdf(gud)\n",
    "    \n",
    "    return d_pdf, p_pdf"
   ]
  },
  {
   "cell_type": "code",
   "execution_count": 15,
   "metadata": {
    "collapsed": false
   },
   "outputs": [],
   "source": [
    "dsg = graph_utilities.make_direction_subgraph(central_sf, sf_expectation_edgelist)\n",
    "distributions_expectation_pdf = { node: pdf_from_cost(central_sf, sf_expectation_cost, sf_expectation_edgelist, dsg,\n",
    "                  0.06, node, central_sf_caller_locations, central_sf_caller_probabilities)\n",
    "                    for node in central_sf.nodes()}"
   ]
  },
  {
   "cell_type": "code",
   "execution_count": 20,
   "metadata": {
    "collapsed": false
   },
   "outputs": [
    {
     "data": {
      "text/plain": [
       "[0, 2430, 1e-16, 1]"
      ]
     },
     "execution_count": 20,
     "metadata": {},
     "output_type": "execute_result"
    },
    {
     "data": {
      "image/png": "[encoded data removed]",
      "text/plain": [
       "<matplotlib.figure.Figure at 0x7f783a8b2890>"
      ]
     },
     "metadata": {},
     "output_type": "display_data"
    }
   ],
   "source": [
    "errors = []\n",
    "for node in central_sf.nodes():\n",
    "    d,p = distributions_expectation_pdf[node]\n",
    "    expectation_from_distribution = np.dot(np.array(d), np.array(p))\n",
    "    error = np.abs(sf_expectation_cost[node] - expectation_from_distribution)\n",
    "    errors.append(error)\n",
    "plt.title(\"Errors in value function of EXPECTED (V)\")\n",
    "plt.semilogy(errors)\n",
    "plt.axis([0, len(errors), 1e-16, 1])"
   ]
  },
  {
   "cell_type": "code",
   "execution_count": 41,
   "metadata": {
    "collapsed": false
   },
   "outputs": [],
   "source": [
    "dsg = graph_utilities.make_direction_subgraph(central_sf, sf_exceeding_expectation_edgelist)\n",
    "distribution_exceeding_expectation = { node: [pdf_from_cost(central_sf, { node: sf_exceeding_expectation_cost[node][0] for node in central_sf.nodes() }, sf_exceeding_expectation_edgelist, dsg,\n",
    "                  0.06, node, central_sf_caller_locations, central_sf_caller_probabilities),\n",
    "                    pdf_from_cost(central_sf, { node: sf_exceeding_expectation_cost[node][1] for node in central_sf.nodes() }, sf_exceeding_expectation_edgelist, dsg,\n",
    "                  0.06, node, central_sf_caller_locations, central_sf_caller_probabilities)]\n",
    "                    for node in central_sf.nodes()}"
   ]
  },
  {
   "cell_type": "code",
   "execution_count": 49,
   "metadata": {
    "collapsed": false
   },
   "outputs": [
    {
     "data": {
      "text/plain": [
       "[0, 2430, 1e-16, 1]"
      ]
     },
     "execution_count": 49,
     "metadata": {},
     "output_type": "execute_result"
    },
    {
     "data": {
      "image/png": "[encoded data removed]",
      "text/plain": [
       "<matplotlib.figure.Figure at 0x7f783b0b7190>"
      ]
     },
     "metadata": {},
     "output_type": "display_data"
    }
   ],
   "source": [
    "fig, (ax1, ax2) = plt.subplots(1,2)\n",
    "errors = []\n",
    "for node in central_sf.nodes():\n",
    "    (dx,px),(de,pe) = distribution_exceeding_expectation[node]\n",
    "    expectation_from_distribution = np.dot(np.array(de), np.array(pe))\n",
    "    p_exceeding_from_distribution = sum(px[dx > 350.0])\n",
    "    error = [np.abs(p_exceeding_from_distribution - sf_exceeding_expectation_cost[node][0]),\n",
    "             np.abs(sf_exceeding_expectation_cost[node][1] - expectation_from_distribution)]\n",
    "    errors.append(error)\n",
    "errors = np.array(errors)\n",
    "plt.title(\"Errors in value function of EXCEEDING-EXPECTED (W-V)\")\n",
    "ax1.semilogy(errors[:,0], color=\"green\")\n",
    "ax2.semilogy(errors[:,1], color=\"blue\")\n",
    "ax1.axis([0, len(errors), 1e-18, 1])\n",
    "ax2.axis([0, len(errors), 1e-16, 1])"
   ]
  },
  {
   "cell_type": "code",
   "execution_count": 30,
   "metadata": {
    "collapsed": false
   },
   "outputs": [],
   "source": [
    "dsg = graph_utilities.make_direction_subgraph(central_sf, sf_exceeding_expectation_edgelist)\n",
    "distributions_exceeding = { node: pdf_from_cost(central_sf, sf_exceeding_cost, sf_exceeding_edgelist, dsg,\n",
    "                  0.06, node, central_sf_caller_locations, central_sf_caller_probabilities)\n",
    "                    for node in central_sf.nodes()}"
   ]
  },
  {
   "cell_type": "code",
   "execution_count": 38,
   "metadata": {
    "collapsed": false
   },
   "outputs": [
    {
     "data": {
      "text/plain": [
       "[0, 2430, 1e-18, 1]"
      ]
     },
     "execution_count": 38,
     "metadata": {},
     "output_type": "execute_result"
    },
    {
     "data": {
      "image/png": "[encoded data removed]",
      "text/plain": [
       "<matplotlib.figure.Figure at 0x7f783a7bb990>"
      ]
     },
     "metadata": {},
     "output_type": "display_data"
    }
   ],
   "source": [
    "errors = []\n",
    "for node in central_sf.nodes():\n",
    "    d,p = distributions_exceeding[node]\n",
    "    p_exceeding_from_distribution = sum(p[d > 350.0])\n",
    "    error = np.abs(sf_exceeding_cost[node] - p_exceeding_from_distribution)\n",
    "    errors.append(error)\n",
    "plt.title(\"Errors in value function of EXCEEDING (W)\")\n",
    "plt.semilogy(errors)\n",
    "plt.axis([0, len(errors), 1e-18, 1])"
   ]
  },
  {
   "cell_type": "code",
   "execution_count": null,
   "metadata": {
    "collapsed": true
   },
   "outputs": [],
   "source": []
  }
 ],
 "metadata": {
  "kernelspec": {
   "display_name": "Python 2",
   "language": "python",
   "name": "python2"
  },
  "language_info": {
   "codemirror_mode": {
    "name": "ipython",
    "version": 2
   },
   "file_extension": ".py",
   "mimetype": "text/x-python",
   "name": "python",
   "nbconvert_exporter": "python",
   "pygments_lexer": "ipython2",
   "version": "2.7.6"
  }
 },
 "nbformat": 4,
 "nbformat_minor": 0
}
